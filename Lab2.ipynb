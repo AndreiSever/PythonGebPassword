{
 "cells": [
  {
   "cell_type": "markdown",
   "metadata": {},
   "source": [
    "# Лабораторная работа №2"
   ]
  },
  {
   "cell_type": "markdown",
   "metadata": {},
   "source": [
    "\"Генератор пароля заданной длины\""
   ]
  },
  {
   "cell_type": "markdown",
   "metadata": {},
   "source": [
    "В ходе выполнения лабораторной работы был разработан генератор паролей заданной длины из комбинаций следующих символов: \n",
    "1) русский и английский алфавит(с учетом регистра) \n",
    "2) цифры от 0-9 \n",
    "3) спецсимволы ;*()_+=-,.[]{}\n",
    "Предусмотрены минимальные требования сложности - пароль не менее 8 символов."
   ]
  },
  {
   "cell_type": "markdown",
   "metadata": {},
   "source": [
    "Подключаем модули os и binascii для генерации случайного числа. Также подключаем модуль string для получения английского алфавита и цифр. "
   ]
  },
  {
   "cell_type": "code",
   "execution_count": null,
   "metadata": {},
   "outputs": [],
   "source": [
    "import os\n",
    "import binascii\n",
    "import string"
   ]
  },
  {
   "cell_type": "markdown",
   "metadata": {},
   "source": [
    "Далее создаем класс для описания основных функций генератора - это сохранение минимальных требований сложности(длина пароля) и генерация пароля по имеющемуся алфавиту, заданной длины. Все символы записаны в переменной passwordSymbols. Для получения случайного числа из алфавита используется функция os.urandom, которая получает случайный байт. После полученный байт переводится в шестнадцатеричное число с помощью функции binascii.hexlify. И уже шестнадцатеричное число переводится в десятичное и делится по модулю на количество символов в алфавите."
   ]
  },
  {
   "cell_type": "code",
   "execution_count": null,
   "metadata": {},
   "outputs": [],
   "source": [
    "import os\n",
    "import binascii\n",
    "import string\n",
    "class gen():\n",
    "    \"\"\"\n",
    "    Класс для генерации пароля\n",
    "    \"\"\"\n",
    "    def __init__(self):\n",
    "        \"\"\"\n",
    "        Инициалирует переменные.\n",
    "\n",
    "        Атрибуты\n",
    "        --------\n",
    "        passwordSymbols : string\n",
    "            Алфавит для генерируемого пароля.\n",
    "        len : int\n",
    "            Длина пароля. (Значение 0)\n",
    "        \"\"\"\n",
    "        self.passwordSymbols = string.ascii_letters+string.digits + \"АБВГДЕЁЖЗИЙКЛМНОПРСТУФХЦЧШЩЪЫЬЭЮЯабвгдеёжзийклмнопрстуфхцчшщъыьэюя;*()_+=-,.[]{}\" \n",
    "        self.len = 0\n",
    "    def genRandomSymbols(self):\n",
    "        \"\"\"\n",
    "        Генерирует пароль.\n",
    "        \n",
    "        Возврат\n",
    "        -------\n",
    "        password : string\n",
    "            Возвращает пароль.\n",
    "        \"\"\"\n",
    "        password = ''\n",
    "        for i in range(self.len):\n",
    "            password += self.passwordSymbols[int(binascii.hexlify(os.urandom(1)),16) % len(self.passwordSymbols)]\n",
    "        return password\n",
    "    def validat(self,length):\n",
    "        \"\"\"\n",
    "        Проверка на введеную длину пароля.\n",
    "        \n",
    "        Параметры\n",
    "        ---------\n",
    "        length : string\n",
    "            Введенная длина пароля.\n",
    "        \n",
    "        Возврат\n",
    "        -------\n",
    "        bool\n",
    "            Возвращает True.\n",
    "        bool\n",
    "            Возвращает False.\n",
    "        \"\"\"\n",
    "        try:\n",
    "            if int(length) not in range(8,61):\n",
    "                return False\n",
    "            return True\n",
    "        except:\n",
    "             return False\n",
    "    def inp(self):\n",
    "        \"\"\"\n",
    "        Вводится длина пароля.\n",
    "        \n",
    "        Ошибки\n",
    "        ------\n",
    "        validate\n",
    "            Возникает если введено не число или находится вне диапазона.\n",
    "        \"\"\"\n",
    "        validate = False\n",
    "        while validate==False:\n",
    "           password_length = input('Введите длину пароля(не менее 8 символов): ')\n",
    "           validate = self.validat(password_length)\n",
    "           if validate == False:\n",
    "                print('Некорректный ввод!Введите число в диапазоне 8-60.') \n",
    "        self.len = int(password_length)        \n",
    "    def main(self):\n",
    "        \"\"\"\n",
    "        Основная функция, которая вызывает все остальные.\n",
    "        \"\"\"  \n",
    "        self.inp()\n",
    "        print(self.genRandomSymbols())"
   ]
  },
  {
   "cell_type": "markdown",
   "metadata": {},
   "source": [
    "В отдельном файле импортируем модуль gener, инициализируем класс и вызываем функцию main():"
   ]
  },
  {
   "cell_type": "code",
   "execution_count": 1,
   "metadata": {},
   "outputs": [
    {
     "name": "stdout",
     "output_type": "stream",
     "text": [
      "Введите длину пароля(не менее 8 символов): 8\n",
      "тН9БмнjД\n"
     ]
    }
   ],
   "source": [
    "import gener\n",
    "clas=gener.gen()\n",
    "clas.main()"
   ]
  },
  {
   "cell_type": "markdown",
   "metadata": {},
   "source": [
    "Для тестирования класса gen() создан класс Test в отдельном файле.\n",
    "В данном классе проверяется два раза функция validat на допустимые граничные значения, а именно 8 и 60.\n",
    "Также проверяется функция генерирования пароля. Так как сверить по факту возвращаемое значение невозможно, то проверяется длина возвращаемого текста. Для этого переменной класса len присваевается значение 8.\n",
    "Остальные функции (main, inp) не проверяются в силу невозможности.  "
   ]
  },
  {
   "cell_type": "code",
   "execution_count": 4,
   "metadata": {},
   "outputs": [
    {
     "ename": "SyntaxError",
     "evalue": "unexpected EOF while parsing (<ipython-input-4-1e903dbbe24a>, line 29)",
     "output_type": "error",
     "traceback": [
      "\u001b[1;36m  File \u001b[1;32m\"<ipython-input-4-1e903dbbe24a>\"\u001b[1;36m, line \u001b[1;32m29\u001b[0m\n\u001b[1;33m    self.assertEqual(clas.validat(60), True\u001b[0m\n\u001b[1;37m                                           ^\u001b[0m\n\u001b[1;31mSyntaxError\u001b[0m\u001b[1;31m:\u001b[0m unexpected EOF while parsing\n"
     ]
    }
   ],
   "source": [
    "import unittest\n",
    "import gener\n",
    " \n",
    "class Test(unittest.TestCase):\n",
    "    \"\"\"\n",
    "    Класс тестирования методов класса gen.\n",
    "    \"\"\"\n",
    "    def test_gen(self):\n",
    "        \"\"\"\n",
    "        Проверяет длину сгенерированного пароля.\n",
    "        \"\"\"\n",
    "        clas=gener.gen()\n",
    "        clas.len = 8\n",
    "        lenPass = clas.genRandomSymbols() \n",
    "        self.assertEqual(len(lenPass), 8)\n",
    "        \n",
    "    def test_validate1(self):\n",
    "        \"\"\"\n",
    "        Проверяет вхождение длины пароля в допустимый диапазон.\n",
    "        \"\"\"\n",
    "        clas=gener.gen()\n",
    "        self.assertEqual(clas.validat(8), True)\n",
    "        \n",
    "    def test_validate2(self):\n",
    "        \"\"\"\n",
    "        Проверяет вхождение длины пароля в допустимый диапазон.\n",
    "        \"\"\"\n",
    "        clas=gener.gen()\n",
    "        self.assertEqual(clas.validat(60), True\n"
   ]
  },
  {
   "cell_type": "markdown",
   "metadata": {},
   "source": [
    "Запуск теста ниже:"
   ]
  },
  {
   "cell_type": "code",
   "execution_count": 7,
   "metadata": {},
   "outputs": [
    {
     "name": "stderr",
     "output_type": "stream",
     "text": [
      "...\n",
      "----------------------------------------------------------------------\n",
      "Ran 3 tests in 0.017s\n",
      "\n",
      "OK\n"
     ]
    }
   ],
   "source": [
    "%run utest.py"
   ]
  },
  {
   "cell_type": "code",
   "execution_count": null,
   "metadata": {},
   "outputs": [],
   "source": []
  }
 ],
 "metadata": {
  "kernelspec": {
   "display_name": "Python 3",
   "language": "python",
   "name": "python3"
  },
  "language_info": {
   "codemirror_mode": {
    "name": "ipython",
    "version": 3
   },
   "file_extension": ".py",
   "mimetype": "text/x-python",
   "name": "python",
   "nbconvert_exporter": "python",
   "pygments_lexer": "ipython3",
   "version": "3.7.1"
  }
 },
 "nbformat": 4,
 "nbformat_minor": 2
}
